{
 "cells": [
  {
   "cell_type": "markdown",
   "id": "c1f3df04",
   "metadata": {},
   "source": []
  },
  {
   "cell_type": "code",
   "execution_count": 4,
   "id": "0c096f58",
   "metadata": {},
   "outputs": [
    {
     "data": {
      "text/plain": [
       "[[],\n",
       " [3],\n",
       " [3, 2],\n",
       " [3, 2, 3],\n",
       " [3, 2, 3, 1],\n",
       " [3, 2, 3, 1, 3],\n",
       " [3, 2, 3, 1, 3, 2],\n",
       " [3, 2, 3, 1, 3, 2, 3]]"
      ]
     },
     "execution_count": 4,
     "metadata": {},
     "output_type": "execute_result"
    }
   ],
   "source": [
    "class Solution:\n",
    "    def subsets(self,nums: list[int]) -> list[list[int]]:\n",
    "        n=len(nums)\n",
    "        res,sol=[],[]\n",
    "\n",
    "        def backtrack(i):\n",
    "            if i==n:\n",
    "                res.append(sol[:])  \n",
    "                return\n",
    "            # Dont pick nums [i]\n",
    "            backtrack(i+1)\n",
    "\n",
    "            # Pick nums[i]\n",
    "            sol.append(nums[i])\n",
    "            backtrack(i+1)\n",
    "            sol.pop\n",
    "\n",
    "        backtrack(0)\n",
    "        return res\n",
    "    \n",
    "\n",
    "example=Solution()\n",
    "example.subsets([1,2,3])"
   ]
  }
 ],
 "metadata": {
  "kernelspec": {
   "display_name": "Python 3",
   "language": "python",
   "name": "python3"
  },
  "language_info": {
   "codemirror_mode": {
    "name": "ipython",
    "version": 3
   },
   "file_extension": ".py",
   "mimetype": "text/x-python",
   "name": "python",
   "nbconvert_exporter": "python",
   "pygments_lexer": "ipython3",
   "version": "3.11.0"
  }
 },
 "nbformat": 4,
 "nbformat_minor": 5
}
