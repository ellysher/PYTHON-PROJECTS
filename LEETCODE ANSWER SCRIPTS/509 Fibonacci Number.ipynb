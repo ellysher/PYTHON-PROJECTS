{
 "cells": [
  {
   "cell_type": "markdown",
   "id": "535ea54a",
   "metadata": {},
   "source": []
  },
  {
   "cell_type": "code",
   "execution_count": 3,
   "id": "772ba67b",
   "metadata": {},
   "outputs": [
    {
     "ename": "TypeError",
     "evalue": "'dict' object is not callable",
     "output_type": "error",
     "traceback": [
      "\u001b[1;31m---------------------------------------------------------------------------\u001b[0m",
      "\u001b[1;31mTypeError\u001b[0m                                 Traceback (most recent call last)",
      "Cell \u001b[1;32mIn[3], line 21\u001b[0m\n\u001b[0;32m     16\u001b[0m         \u001b[38;5;66;03m# time: O(n)\u001b[39;00m\n\u001b[0;32m     17\u001b[0m         \u001b[38;5;66;03m# Space: O(m)\u001b[39;00m\n\u001b[0;32m     20\u001b[0m example\u001b[38;5;241m=\u001b[39mSolution()\n\u001b[1;32m---> 21\u001b[0m \u001b[43mexample\u001b[49m\u001b[38;5;241;43m.\u001b[39;49m\u001b[43mfib\u001b[49m\u001b[43m(\u001b[49m\u001b[38;5;241;43m5\u001b[39;49m\u001b[43m)\u001b[49m\n",
      "Cell \u001b[1;32mIn[3], line 15\u001b[0m, in \u001b[0;36mSolution.fib\u001b[1;34m(self, n)\u001b[0m\n\u001b[0;32m     12\u001b[0m         memo[x]\u001b[38;5;241m=\u001b[39mf(x\u001b[38;5;241m-\u001b[39m\u001b[38;5;241m1\u001b[39m)\u001b[38;5;241m+\u001b[39mf(x\u001b[38;5;241m-\u001b[39m\u001b[38;5;241m2\u001b[39m)\n\u001b[0;32m     13\u001b[0m         \u001b[38;5;28;01mreturn\u001b[39;00m memo[x]\n\u001b[1;32m---> 15\u001b[0m \u001b[38;5;28;01mreturn\u001b[39;00m \u001b[43mf\u001b[49m\u001b[43m(\u001b[49m\u001b[43mn\u001b[49m\u001b[43m)\u001b[49m\n",
      "Cell \u001b[1;32mIn[3], line 12\u001b[0m, in \u001b[0;36mSolution.fib.<locals>.f\u001b[1;34m(x)\u001b[0m\n\u001b[0;32m     10\u001b[0m     \u001b[38;5;28;01mreturn\u001b[39;00m memo(x)\n\u001b[0;32m     11\u001b[0m \u001b[38;5;28;01melse\u001b[39;00m:\n\u001b[1;32m---> 12\u001b[0m     memo[x]\u001b[38;5;241m=\u001b[39m\u001b[43mf\u001b[49m\u001b[43m(\u001b[49m\u001b[43mx\u001b[49m\u001b[38;5;241;43m-\u001b[39;49m\u001b[38;5;241;43m1\u001b[39;49m\u001b[43m)\u001b[49m\u001b[38;5;241m+\u001b[39mf(x\u001b[38;5;241m-\u001b[39m\u001b[38;5;241m2\u001b[39m)\n\u001b[0;32m     13\u001b[0m     \u001b[38;5;28;01mreturn\u001b[39;00m memo[x]\n",
      "Cell \u001b[1;32mIn[3], line 12\u001b[0m, in \u001b[0;36mSolution.fib.<locals>.f\u001b[1;34m(x)\u001b[0m\n\u001b[0;32m     10\u001b[0m     \u001b[38;5;28;01mreturn\u001b[39;00m memo(x)\n\u001b[0;32m     11\u001b[0m \u001b[38;5;28;01melse\u001b[39;00m:\n\u001b[1;32m---> 12\u001b[0m     memo[x]\u001b[38;5;241m=\u001b[39m\u001b[43mf\u001b[49m\u001b[43m(\u001b[49m\u001b[43mx\u001b[49m\u001b[38;5;241;43m-\u001b[39;49m\u001b[38;5;241;43m1\u001b[39;49m\u001b[43m)\u001b[49m\u001b[38;5;241m+\u001b[39mf(x\u001b[38;5;241m-\u001b[39m\u001b[38;5;241m2\u001b[39m)\n\u001b[0;32m     13\u001b[0m     \u001b[38;5;28;01mreturn\u001b[39;00m memo[x]\n",
      "    \u001b[1;31m[... skipping similar frames: Solution.fib.<locals>.f at line 12 (1 times)]\u001b[0m\n",
      "Cell \u001b[1;32mIn[3], line 12\u001b[0m, in \u001b[0;36mSolution.fib.<locals>.f\u001b[1;34m(x)\u001b[0m\n\u001b[0;32m     10\u001b[0m     \u001b[38;5;28;01mreturn\u001b[39;00m memo(x)\n\u001b[0;32m     11\u001b[0m \u001b[38;5;28;01melse\u001b[39;00m:\n\u001b[1;32m---> 12\u001b[0m     memo[x]\u001b[38;5;241m=\u001b[39m\u001b[43mf\u001b[49m\u001b[43m(\u001b[49m\u001b[43mx\u001b[49m\u001b[38;5;241;43m-\u001b[39;49m\u001b[38;5;241;43m1\u001b[39;49m\u001b[43m)\u001b[49m\u001b[38;5;241m+\u001b[39mf(x\u001b[38;5;241m-\u001b[39m\u001b[38;5;241m2\u001b[39m)\n\u001b[0;32m     13\u001b[0m     \u001b[38;5;28;01mreturn\u001b[39;00m memo[x]\n",
      "Cell \u001b[1;32mIn[3], line 10\u001b[0m, in \u001b[0;36mSolution.fib.<locals>.f\u001b[1;34m(x)\u001b[0m\n\u001b[0;32m      8\u001b[0m \u001b[38;5;28;01mdef\u001b[39;00m\u001b[38;5;250m \u001b[39m\u001b[38;5;21mf\u001b[39m(x):\n\u001b[0;32m      9\u001b[0m     \u001b[38;5;28;01mif\u001b[39;00m x \u001b[38;5;129;01min\u001b[39;00m memo:\n\u001b[1;32m---> 10\u001b[0m         \u001b[38;5;28;01mreturn\u001b[39;00m \u001b[43mmemo\u001b[49m\u001b[43m(\u001b[49m\u001b[43mx\u001b[49m\u001b[43m)\u001b[49m\n\u001b[0;32m     11\u001b[0m     \u001b[38;5;28;01melse\u001b[39;00m:\n\u001b[0;32m     12\u001b[0m         memo[x]\u001b[38;5;241m=\u001b[39mf(x\u001b[38;5;241m-\u001b[39m\u001b[38;5;241m1\u001b[39m)\u001b[38;5;241m+\u001b[39mf(x\u001b[38;5;241m-\u001b[39m\u001b[38;5;241m2\u001b[39m)\n",
      "\u001b[1;31mTypeError\u001b[0m: 'dict' object is not callable"
     ]
    }
   ],
   "source": [
    "# Top down Dynamic Programming\n",
    "# Uses recursion\n",
    "\n",
    "class Solution:\n",
    "    def fib(self,n: int)-> int:\n",
    "        memo={0:0,1:1}\n",
    "\n",
    "        def f(x):\n",
    "            if x in memo:\n",
    "                return memo(x)\n",
    "            else:\n",
    "                memo[x]=f(x-1)+f(x-2)\n",
    "                return memo[x]\n",
    "            \n",
    "        return f(n)\n",
    "        # time: O(n)\n",
    "        # Space: O(m)\n",
    "\n",
    "\n",
    "example=Solution()\n",
    "example.fib(5)"
   ]
  },
  {
   "cell_type": "code",
   "execution_count": null,
   "id": "25fcb664",
   "metadata": {},
   "outputs": [
    {
     "data": {
      "text/plain": [
       "354224848179261915075"
      ]
     },
     "execution_count": 7,
     "metadata": {},
     "output_type": "execute_result"
    }
   ],
   "source": [
    "# Bottom Up Dynamic Programming (Tabulation)\n",
    "# Uses Loops\n",
    "\n",
    "class Solution:\n",
    "    def fib(self,n: int)-> int:\n",
    "\n",
    "        if n==0:\n",
    "            return 0\n",
    "        if n==1:\n",
    "            return 1\n",
    "        \n",
    "        dp=[0]*(n+1)\n",
    "        dp[0]=0\n",
    "        dp[1]=1\n",
    "\n",
    "        for i in range(2,n+1):\n",
    "            dp[i]=dp[i-2]+dp[i-1]\n",
    "\n",
    "        return dp[n]\n",
    "    \n",
    "Example=Solution()\n",
    "Example.fib(100)\n",
    "\n",
    "# Time: O(n)"
   ]
  }
 ],
 "metadata": {
  "kernelspec": {
   "display_name": "Python 3",
   "language": "python",
   "name": "python3"
  },
  "language_info": {
   "codemirror_mode": {
    "name": "ipython",
    "version": 3
   },
   "file_extension": ".py",
   "mimetype": "text/x-python",
   "name": "python",
   "nbconvert_exporter": "python",
   "pygments_lexer": "ipython3",
   "version": "3.11.0"
  }
 },
 "nbformat": 4,
 "nbformat_minor": 5
}
