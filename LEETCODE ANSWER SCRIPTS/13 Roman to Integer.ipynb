{
 "cells": [
  {
   "cell_type": "code",
   "execution_count": 2,
   "id": "ddefa95d",
   "metadata": {},
   "outputs": [
    {
     "data": {
      "text/plain": [
       "1994"
      ]
     },
     "execution_count": 2,
     "metadata": {},
     "output_type": "execute_result"
    }
   ],
   "source": [
    "class Solution:\n",
    "    def romanToInt(self,s: str)->str:\n",
    "        d = {'I':1,'V':5,'X':10,'L':50,'C':100,'D':500,'M':1000}\n",
    "\n",
    "        summ =0\n",
    "        n=len(s)\n",
    "        i=0\n",
    "        \n",
    "\n",
    "        while i<n:\n",
    "            if i<n-1 and d[s[i]]<d[s[i+1]]:\n",
    "                summ +=d[s[i+1]]-d[s[i]]\n",
    "                i+=2\n",
    "\n",
    "            else:\n",
    "                summ+=d[s[i]]\n",
    "                i+=1\n",
    "\n",
    "        return summ\n",
    "\n",
    "example=Solution()\n",
    "example.romanToInt('MCMXCIV')\n"
   ]
  },
  {
   "cell_type": "code",
   "execution_count": 3,
   "id": "fefc421e",
   "metadata": {},
   "outputs": [
    {
     "data": {
      "text/plain": [
       "1994"
      ]
     },
     "execution_count": 3,
     "metadata": {},
     "output_type": "execute_result"
    }
   ],
   "source": [
    "class Solution(object):\n",
    "    def romanToInt(self, s):\n",
    "        \"\"\"\n",
    "        :type s: str\n",
    "        :rtype: int\n",
    "        \"\"\"\n",
    "        romans={'I':1, 'V':5,'X':10,'L':50,'C':100,'D':500,'M':1000}\n",
    "        res=0\n",
    "        for i in range(len(s) - 1):\n",
    "            if romans[s[i]] < romans[s[i + 1]]:  # Correct comparison\n",
    "                res -= romans[s[i]]\n",
    "            else:\n",
    "                res += romans[s[i]]\n",
    "\n",
    "        res += romans[s[-1]]  # Adding the last numeral\n",
    "\n",
    "        return res\n",
    "    \n",
    "example=Solution()\n",
    "example.romanToInt('MCMXCIV')"
   ]
  }
 ],
 "metadata": {
  "kernelspec": {
   "display_name": "Python 3",
   "language": "python",
   "name": "python3"
  },
  "language_info": {
   "codemirror_mode": {
    "name": "ipython",
    "version": 3
   },
   "file_extension": ".py",
   "mimetype": "text/x-python",
   "name": "python",
   "nbconvert_exporter": "python",
   "pygments_lexer": "ipython3",
   "version": "3.11.0"
  }
 },
 "nbformat": 4,
 "nbformat_minor": 5
}
