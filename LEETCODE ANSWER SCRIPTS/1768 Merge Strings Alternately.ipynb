{
 "cells": [
  {
   "cell_type": "markdown",
   "id": "c0ffb71d",
   "metadata": {},
   "source": []
  },
  {
   "cell_type": "code",
   "execution_count": 2,
   "id": "f16c3d0f",
   "metadata": {},
   "outputs": [
    {
     "data": {
      "text/plain": [
       "'papaaaaaaa'"
      ]
     },
     "execution_count": 2,
     "metadata": {},
     "output_type": "execute_result"
    }
   ],
   "source": [
    "class Solution:\n",
    "    def mergeAlternately(self,word1:str, word2:str)->str:\n",
    "        A,B = len(word1), len(word2)\n",
    "        a,b=0,0\n",
    "        s=[]\n",
    "\n",
    "\n",
    "        word=1\n",
    "        while a<A and b<B:\n",
    "            if word==1:\n",
    "                s.append(word1[a])            \n",
    "                a+=1\n",
    "                word=2\n",
    "\n",
    "            else:\n",
    "                s.append(word2[b])\n",
    "                b+=1\n",
    "                word=1\n",
    "\n",
    "        while a<A:\n",
    "            s.append(word1[a])\n",
    "            a+=1\n",
    "        while b<B:\n",
    "            s.append(word2[b])\n",
    "            b+=1\n",
    "\n",
    "        return ''.join(s)\n",
    "    \n",
    "example= Solution()\n",
    "example.mergeAlternately(\"pp\",\"aaaaaaaa\")\n",
    "    \n",
    "\n",
    "\n",
    "\n"
   ]
  }
 ],
 "metadata": {
  "kernelspec": {
   "display_name": "Python 3",
   "language": "python",
   "name": "python3"
  },
  "language_info": {
   "codemirror_mode": {
    "name": "ipython",
    "version": 3
   },
   "file_extension": ".py",
   "mimetype": "text/x-python",
   "name": "python",
   "nbconvert_exporter": "python",
   "pygments_lexer": "ipython3",
   "version": "3.11.0"
  }
 },
 "nbformat": 4,
 "nbformat_minor": 5
}
