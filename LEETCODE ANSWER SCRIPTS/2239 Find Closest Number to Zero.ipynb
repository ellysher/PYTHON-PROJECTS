{
 "cells": [
  {
   "cell_type": "markdown",
   "id": "3a382d7e",
   "metadata": {},
   "source": []
  },
  {
   "cell_type": "code",
   "execution_count": 14,
   "id": "e4b1c236",
   "metadata": {},
   "outputs": [
    {
     "data": {
      "text/plain": [
       "2"
      ]
     },
     "execution_count": 14,
     "metadata": {},
     "output_type": "execute_result"
    }
   ],
   "source": [
    "class Solution:\n",
    "    def findClosestNumber(self,nums: list[int])-> int:\n",
    "        closest=nums[0]\n",
    "        for x in nums:\n",
    "            if abs(x)< abs(closest):\n",
    "                closest=x\n",
    "\n",
    "        if closest < 0 and abs(closest) in nums:\n",
    "            return abs(closest)\n",
    "        else:\n",
    "            return closest\n",
    "        \n",
    "example= Solution()\n",
    "example.findClosestNumber([-4,-2,2,4,8])"
   ]
  }
 ],
 "metadata": {
  "kernelspec": {
   "display_name": "Python 3",
   "language": "python",
   "name": "python3"
  },
  "language_info": {
   "codemirror_mode": {
    "name": "ipython",
    "version": 3
   },
   "file_extension": ".py",
   "mimetype": "text/x-python",
   "name": "python",
   "nbconvert_exporter": "python",
   "pygments_lexer": "ipython3",
   "version": "3.11.0"
  }
 },
 "nbformat": 4,
 "nbformat_minor": 5
}
