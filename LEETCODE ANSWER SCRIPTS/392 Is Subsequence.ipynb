{
 "cells": [
  {
   "cell_type": "markdown",
   "id": "7c816891",
   "metadata": {},
   "source": []
  },
  {
   "cell_type": "code",
   "execution_count": 2,
   "id": "dedb404e",
   "metadata": {},
   "outputs": [
    {
     "data": {
      "text/plain": [
       "True"
      ]
     },
     "execution_count": 2,
     "metadata": {},
     "output_type": "execute_result"
    }
   ],
   "source": [
    "class Solution():\n",
    "    def isSubsequence(self,s:str, t:str)->str:\n",
    "        S=len(s)\n",
    "        T=len(t)\n",
    "\n",
    "\n",
    "        if s=='': return True\n",
    "        if S>T: return False\n",
    "\n",
    "\n",
    "        j=0\n",
    "        for i in range(T):\n",
    "            if t[i]==s[j]:\n",
    "                if j==S-1:\n",
    "                  return True\n",
    "                j+=1\n",
    "\n",
    "        return False\n",
    "    \n",
    "\n",
    "example= Solution()\n",
    "example.isSubsequence('ac','abcde')"
   ]
  }
 ],
 "metadata": {
  "kernelspec": {
   "display_name": "Python 3",
   "language": "python",
   "name": "python3"
  },
  "language_info": {
   "codemirror_mode": {
    "name": "ipython",
    "version": 3
   },
   "file_extension": ".py",
   "mimetype": "text/x-python",
   "name": "python",
   "nbconvert_exporter": "python",
   "pygments_lexer": "ipython3",
   "version": "3.11.0"
  }
 },
 "nbformat": 4,
 "nbformat_minor": 5
}
