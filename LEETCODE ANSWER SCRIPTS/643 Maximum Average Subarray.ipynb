{
 "cells": [
  {
   "cell_type": "markdown",
   "id": "1bb4df91",
   "metadata": {},
   "source": []
  },
  {
   "cell_type": "code",
   "execution_count": 4,
   "id": "c1f899fc",
   "metadata": {},
   "outputs": [
    {
     "data": {
      "text/plain": [
       "12.75"
      ]
     },
     "execution_count": 4,
     "metadata": {},
     "output_type": "execute_result"
    }
   ],
   "source": [
    "class Solution:\n",
    "    def findMaxAverage(self, nums: list[int], k: int)-> float:\n",
    "        n=len(nums)\n",
    "        cur_sum=0\n",
    "\n",
    "        for i in range(k):\n",
    "            cur_sum +=nums[i]\n",
    "\n",
    "        max_avg=cur_sum/k\n",
    "\n",
    "        for i in range(k,n):\n",
    "            cur_sum += nums[i]\n",
    "            cur_sum -= nums[i-k]\n",
    "\n",
    "            avg = cur_sum/k\n",
    "\n",
    "            max_avg=max(max_avg,avg)\n",
    "\n",
    "        return max_avg\n",
    "    \n",
    "\n",
    "example= Solution()\n",
    "example.findMaxAverage([1,12,-5,-6,50,3],4)\n",
    "    \n"
   ]
  },
  {
   "cell_type": "code",
   "execution_count": null,
   "id": "7a5ff8b3",
   "metadata": {},
   "outputs": [],
   "source": []
  }
 ],
 "metadata": {
  "kernelspec": {
   "display_name": "Python 3",
   "language": "python",
   "name": "python3"
  },
  "language_info": {
   "codemirror_mode": {
    "name": "ipython",
    "version": 3
   },
   "file_extension": ".py",
   "mimetype": "text/x-python",
   "name": "python",
   "nbconvert_exporter": "python",
   "pygments_lexer": "ipython3",
   "version": "3.11.0"
  }
 },
 "nbformat": 4,
 "nbformat_minor": 5
}
