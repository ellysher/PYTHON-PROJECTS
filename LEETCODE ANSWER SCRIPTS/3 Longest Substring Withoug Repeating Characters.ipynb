{
 "cells": [
  {
   "cell_type": "markdown",
   "id": "9cbeedfe",
   "metadata": {},
   "source": []
  },
  {
   "cell_type": "code",
   "execution_count": 3,
   "id": "9be586df",
   "metadata": {},
   "outputs": [
    {
     "data": {
      "text/plain": [
       "3"
      ]
     },
     "execution_count": 3,
     "metadata": {},
     "output_type": "execute_result"
    }
   ],
   "source": [
    "class Solution:\n",
    "    def longestSubstring(self,s:str) -> int:\n",
    "        l=0\n",
    "        longest=0\n",
    "        sett=set()\n",
    "        n=len(s) \n",
    "\n",
    "\n",
    "        for r in range(n):\n",
    "            while s[r] in sett:\n",
    "                sett.remove(s[l])\n",
    "                l+=1\n",
    "\n",
    "            w=(r-l)+1\n",
    "            longest= max(longest,w)\n",
    "            sett.add(s[r])\n",
    "\n",
    "        return longest\n",
    "    \n",
    "example=Solution()\n",
    "example.longestSubstring(\"abcabcbb\")"
   ]
  }
 ],
 "metadata": {
  "kernelspec": {
   "display_name": "Python 3",
   "language": "python",
   "name": "python3"
  },
  "language_info": {
   "codemirror_mode": {
    "name": "ipython",
    "version": 3
   },
   "file_extension": ".py",
   "mimetype": "text/x-python",
   "name": "python",
   "nbconvert_exporter": "python",
   "pygments_lexer": "ipython3",
   "version": "3.11.0"
  }
 },
 "nbformat": 4,
 "nbformat_minor": 5
}
